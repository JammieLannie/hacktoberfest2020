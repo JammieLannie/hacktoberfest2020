{
 "cells": [
  {
   "cell_type": "code",
   "execution_count": 10,
   "metadata": {},
   "outputs": [
    {
     "name": "stdout",
     "output_type": "stream",
     "text": [
      "Overwriting filewithoperation.txt\n"
     ]
    }
   ],
   "source": [
    "%%writefile filewithoperation.txt\n",
    "ahh!the file gonna down.\n",
    "the first line are better than the second."
   ]
  },
  {
   "cell_type": "code",
   "execution_count": 11,
   "metadata": {},
   "outputs": [
    {
     "name": "stdout",
     "output_type": "stream",
     "text": [
      "ahh!the file gonna down.\n",
      "the first line are better than the second.\n",
      "\n"
     ]
    }
   ],
   "source": [
    "with open(\"filewithoperation.txt\",mode='r') as file:\n",
    "    print(file.read())"
   ]
  },
  {
   "cell_type": "code",
   "execution_count": 12,
   "metadata": {},
   "outputs": [],
   "source": [
    "with open(\"filewithoperation.txt\",mode='a') as file:\n",
    "        file.write(\"You are my Baby.\")"
   ]
  },
  {
   "cell_type": "code",
   "execution_count": 14,
   "metadata": {},
   "outputs": [
    {
     "name": "stdout",
     "output_type": "stream",
     "text": [
      "ahh!the file gonna down.\n",
      "the first line are better than the second.\n",
      "You are my Baby.\n"
     ]
    }
   ],
   "source": [
    "with open(\"filewithoperation.txt\",mode='r') as file:\n",
    "    print(file.read())"
   ]
  },
  {
   "cell_type": "code",
   "execution_count": 15,
   "metadata": {},
   "outputs": [],
   "source": [
    "with open(\"bjhbjkb.txt\",mode='w')as f:\n",
    "    f.write(\"I CREATED THIS FILE! \")"
   ]
  },
  {
   "cell_type": "code",
   "execution_count": 17,
   "metadata": {},
   "outputs": [
    {
     "name": "stdout",
     "output_type": "stream",
     "text": [
      "I CREATED THIS FILE! \n"
     ]
    }
   ],
   "source": [
    "with open(\"bjhbjkb.txt\",mode='r')as f:\n",
    "    print(f.read())"
   ]
  },
  {
   "cell_type": "code",
   "execution_count": null,
   "metadata": {},
   "outputs": [],
   "source": []
  }
 ],
 "metadata": {
  "kernelspec": {
   "display_name": "Python 3",
   "language": "python",
   "name": "python3"
  },
  "language_info": {
   "codemirror_mode": {
    "name": "ipython",
    "version": 3
   },
   "file_extension": ".py",
   "mimetype": "text/x-python",
   "name": "python",
   "nbconvert_exporter": "python",
   "pygments_lexer": "ipython3",
   "version": "3.7.4"
  }
 },
 "nbformat": 4,
 "nbformat_minor": 2
}
