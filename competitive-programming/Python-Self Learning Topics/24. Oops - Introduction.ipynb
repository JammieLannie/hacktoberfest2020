{
 "cells": [
  {
   "cell_type": "markdown",
   "metadata": {},
   "source": [
    "#  OOPS CONCEPT\n",
    "\n",
    "\n",
    "\n",
    "    ->  It allows developers or programmers to create there own object that have method's and attributes .\n",
    "   \n",
    "    ->  These methods act as functions that use information about the object,as well as the object itself to return\n",
    "        results,or change the current object .\n",
    "        \n",
    "    ->  Oop's allow users to create their own objects that is repeatable and organized .\n",
    "    \n",
    "    ->  Commonly repeated tasks and objects can be defined with OOPS to create code that is more usable.\n",
    "    \n",
    "    "
   ]
  },
  {
   "cell_type": "code",
   "execution_count": null,
   "metadata": {},
   "outputs": [],
   "source": []
  },
  {
   "cell_type": "code",
   "execution_count": null,
   "metadata": {},
   "outputs": [],
   "source": []
  }
 ],
 "metadata": {
  "kernelspec": {
   "display_name": "Python 3",
   "language": "python",
   "name": "python3"
  },
  "language_info": {
   "codemirror_mode": {
    "name": "ipython",
    "version": 3
   },
   "file_extension": ".py",
   "mimetype": "text/x-python",
   "name": "python",
   "nbconvert_exporter": "python",
   "pygments_lexer": "ipython3",
   "version": "3.6.8"
  }
 },
 "nbformat": 4,
 "nbformat_minor": 4
}
